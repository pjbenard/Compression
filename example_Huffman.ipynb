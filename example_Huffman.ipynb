{
 "cells": [
  {
   "cell_type": "code",
   "execution_count": 1,
   "metadata": {},
   "outputs": [],
   "source": [
    "import numpy as np\n",
    "import string"
   ]
  },
  {
   "cell_type": "code",
   "execution_count": 3,
   "metadata": {},
   "outputs": [],
   "source": [
    "def probabilities(N):\n",
    "    p1 = np.zeros(N)\n",
    "    p2 = np.ones(N)\n",
    "\n",
    "    seps = np.sort(np.random.rand(N-1))\n",
    "    seps /= np.sum(seps)\n",
    "\n",
    "    p1[1:] = seps\n",
    "    p2[:-1] = seps\n",
    "\n",
    "    return p2 - p1"
   ]
  },
  {
   "cell_type": "code",
   "execution_count": 98,
   "metadata": {},
   "outputs": [],
   "source": [
    "def create_text(N, n, p=None):\n",
    "    N = min(N, 26)\n",
    "    alphabet = list(string.ascii_lowercase)[:N]\n",
    "    \n",
    "    if p == None:\n",
    "        p = probabilities(N)\n",
    "        \n",
    "    dic = dict(zip(alphabet, p))\n",
    "        \n",
    "    choices = np.random.choice(alphabet, size=n, p=p)\n",
    "    text = ''.join(choices)\n",
    "    \n",
    "    return text, dic"
   ]
  },
  {
   "cell_type": "code",
   "execution_count": 106,
   "metadata": {},
   "outputs": [
    {
     "name": "stdout",
     "output_type": "stream",
     "text": [
      "275 µs ± 15.6 µs per loop (mean ± std. dev. of 7 runs, 1000 loops each)\n"
     ]
    }
   ],
   "source": [
    "%%timeit\n",
    "text, p = create_text(4, 1000)"
   ]
  },
  {
   "cell_type": "code",
   "execution_count": 100,
   "metadata": {},
   "outputs": [
    {
     "data": {
      "text/plain": [
       "array(['b', 'c', 'd'], dtype='<U1')"
      ]
     },
     "execution_count": 100,
     "metadata": {},
     "output_type": "execute_result"
    }
   ],
   "source": [
    "np.unique(list(text))"
   ]
  },
  {
   "cell_type": "code",
   "execution_count": 101,
   "metadata": {},
   "outputs": [],
   "source": [
    "def empirical_p(text):\n",
    "    lenght = len(text)\n",
    "    alphabet, appearances = np.unique(list(text), return_counts=True)\n",
    "    \n",
    "    return dict(zip(alphabet, appearances/lenght))"
   ]
  },
  {
   "cell_type": "code",
   "execution_count": 102,
   "metadata": {},
   "outputs": [],
   "source": [
    "dic = empirical_p(text)"
   ]
  },
  {
   "cell_type": "code",
   "execution_count": 103,
   "metadata": {},
   "outputs": [
    {
     "name": "stdout",
     "output_type": "stream",
     "text": [
      "cccbcccccd\n"
     ]
    }
   ],
   "source": [
    "print(text)"
   ]
  },
  {
   "cell_type": "code",
   "execution_count": 104,
   "metadata": {},
   "outputs": [
    {
     "data": {
      "text/plain": [
       "{'b': 0.1, 'c': 0.8, 'd': 0.1}"
      ]
     },
     "execution_count": 104,
     "metadata": {},
     "output_type": "execute_result"
    }
   ],
   "source": [
    "dic"
   ]
  },
  {
   "cell_type": "code",
   "execution_count": 105,
   "metadata": {},
   "outputs": [
    {
     "data": {
      "text/plain": [
       "{'a': 0.12217714733342029,\n",
       " 'b': 0.043990335535088146,\n",
       " 'c': 0.5454878869295628,\n",
       " 'd': 0.2883446302019287}"
      ]
     },
     "execution_count": 105,
     "metadata": {},
     "output_type": "execute_result"
    }
   ],
   "source": [
    "p"
   ]
  },
  {
   "cell_type": "code",
   "execution_count": null,
   "metadata": {},
   "outputs": [],
   "source": []
  }
 ],
 "metadata": {
  "kernelspec": {
   "display_name": "Python 3",
   "language": "python",
   "name": "python3"
  },
  "language_info": {
   "codemirror_mode": {
    "name": "ipython",
    "version": 3
   },
   "file_extension": ".py",
   "mimetype": "text/x-python",
   "name": "python",
   "nbconvert_exporter": "python",
   "pygments_lexer": "ipython3",
   "version": "3.7.6"
  }
 },
 "nbformat": 4,
 "nbformat_minor": 4
}
