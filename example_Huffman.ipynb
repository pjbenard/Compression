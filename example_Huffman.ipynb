{
 "cells": [
  {
   "cell_type": "code",
   "execution_count": 1,
   "metadata": {},
   "outputs": [],
   "source": [
    "import numpy as np\n",
    "import string"
   ]
  },
  {
   "cell_type": "code",
   "execution_count": 2,
   "metadata": {},
   "outputs": [],
   "source": [
    "def probabilities(N):\n",
    "    p1 = np.zeros(N)\n",
    "    p2 = np.ones(N)\n",
    "\n",
    "    seps = np.sort(np.random.rand(N-1))\n",
    "    seps /= np.sum(seps)\n",
    "\n",
    "    p1[1:] = seps\n",
    "    p2[:-1] = seps\n",
    "\n",
    "    return p2 - p1"
   ]
  },
  {
   "cell_type": "code",
   "execution_count": 3,
   "metadata": {},
   "outputs": [],
   "source": [
    "def create_text(N, n, p=None):\n",
    "    N = min(N, 26)\n",
    "    alphabet = list(string.ascii_lowercase)[:N]\n",
    "    \n",
    "    if p == None:\n",
    "        p = probabilities(N)\n",
    "        \n",
    "    dic = dict(zip(alphabet, p))\n",
    "        \n",
    "    choices = np.random.choice(alphabet, size=n, p=p)\n",
    "    text = ''.join(choices)\n",
    "    \n",
    "    return text, dic"
   ]
  },
  {
   "cell_type": "code",
   "execution_count": 27,
   "metadata": {},
   "outputs": [],
   "source": [
    "#%%timeit\n",
    "text, p = create_text(4, 20)"
   ]
  },
  {
   "cell_type": "code",
   "execution_count": 28,
   "metadata": {},
   "outputs": [],
   "source": [
    "def empirical_p(text):\n",
    "    lenght = len(text)\n",
    "    alphabet, index, appearances = np.unique(list(text),\n",
    "                                             return_inverse=True,\n",
    "                                             return_counts=True)\n",
    "    \n",
    "    return alphabet, appearances/lenght, index"
   ]
  },
  {
   "cell_type": "code",
   "execution_count": 23,
   "metadata": {},
   "outputs": [],
   "source": [
    "letters, freq, index = empirical_p(text)\n",
    "#print(letters, freq, index)\n",
    "new = np.array(['111', '110', '0', '10'])"
   ]
  },
  {
   "cell_type": "code",
   "execution_count": null,
   "metadata": {},
   "outputs": [],
   "source": [
    "np.vs"
   ]
  },
  {
   "cell_type": "code",
   "execution_count": 41,
   "metadata": {},
   "outputs": [],
   "source": [
    "def Huffman(text):\n",
    "    alphabet, freq, idx = empirical_p(text)\n",
    "    size = alphabet.size\n",
    "    \n",
    "    order = np.argsort(freq)\n",
    "    codage = np.array(['1'*i + '0' for i in range(size-1)] + ['1'*(size-1)])\n",
    "    \n",
    "    return alphabet, codage[order]"
   ]
  },
  {
   "cell_type": "code",
   "execution_count": 42,
   "metadata": {},
   "outputs": [
    {
     "data": {
      "text/plain": [
       "{'a': 0.10303074117355304,\n",
       " 'b': 0.04457270345230058,\n",
       " 'c': 0.6017623695747397,\n",
       " 'd': 0.25063418579940666}"
      ]
     },
     "execution_count": 42,
     "metadata": {},
     "output_type": "execute_result"
    }
   ],
   "source": [
    "p"
   ]
  },
  {
   "cell_type": "code",
   "execution_count": 43,
   "metadata": {},
   "outputs": [],
   "source": [
    "old, new = Huffman(text)"
   ]
  },
  {
   "cell_type": "code",
   "execution_count": 44,
   "metadata": {},
   "outputs": [
    {
     "data": {
      "text/plain": [
       "array(['dcccbbccc10cdcc10c10d10c', 'dccc111111cccacdccacadac',\n",
       "       'd000bb000a0d00a0ada0', '110cccbbcccac110ccaca110ac'], dtype='<U26')"
      ]
     },
     "execution_count": 44,
     "metadata": {},
     "output_type": "execute_result"
    }
   ],
   "source": [
    "np.char.replace(text, old, new)"
   ]
  },
  {
   "cell_type": "code",
   "execution_count": 45,
   "metadata": {},
   "outputs": [
    {
     "data": {
      "text/plain": [
       "array(['10', '111', '0', '110'], dtype='<U3')"
      ]
     },
     "execution_count": 45,
     "metadata": {},
     "output_type": "execute_result"
    }
   ],
   "source": [
    "new"
   ]
  },
  {
   "cell_type": "code",
   "execution_count": null,
   "metadata": {},
   "outputs": [],
   "source": []
  }
 ],
 "metadata": {
  "kernelspec": {
   "display_name": "Python 3",
   "language": "python",
   "name": "python3"
  },
  "language_info": {
   "codemirror_mode": {
    "name": "ipython",
    "version": 3
   },
   "file_extension": ".py",
   "mimetype": "text/x-python",
   "name": "python",
   "nbconvert_exporter": "python",
   "pygments_lexer": "ipython3",
   "version": "3.7.6"
  }
 },
 "nbformat": 4,
 "nbformat_minor": 4
}
